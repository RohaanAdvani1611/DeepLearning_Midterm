{
 "cells": [
  {
   "cell_type": "code",
   "execution_count": null,
   "id": "3566dae3-1034-46e5-90c2-c9955e446959",
   "metadata": {},
   "outputs": [],
   "source": [
    "from unsloth import FastLanguageModel\n",
    "import torch\n",
    "max_seq_length = 2048 # Choose any\n",
    "dtype = torch.bfloat16 # None for auto detection. Float16 for Tesla T4, V100, Bfloat16 for Ampere+\n",
    "load_in_4bit = False "
   ]
  },
  {
   "cell_type": "code",
   "execution_count": null,
   "id": "e37e39af-5797-4c15-928e-f66a89deb98c",
   "metadata": {},
   "outputs": [],
   "source": [
    "from huggingface_hub import notebook_login\n",
    "notebook_login()"
   ]
  },
  {
   "cell_type": "code",
   "execution_count": null,
   "id": "a4da7d9d-822a-4d0c-8d03-a86c2c088225",
   "metadata": {},
   "outputs": [],
   "source": [
    "checkpoint_path='LinNY-DLM/'"
   ]
  },
  {
   "cell_type": "code",
   "execution_count": null,
   "id": "3c13e26d-1d20-4e65-9224-dfe8638f28a8",
   "metadata": {},
   "outputs": [],
   "source": [
    "model, tokenizer = FastLanguageModel.from_pretrained(checkpoint_path)"
   ]
  },
  {
   "cell_type": "code",
   "execution_count": null,
   "id": "41087694-1edb-483d-bf21-993d1587d28a",
   "metadata": {},
   "outputs": [],
   "source": [
    "# download and load competition dataset\n",
    "from datasets import load_dataset\n",
    "dataset = load_dataset(\"ad6398/nyu-dl-teach-maths-comp\")\n",
    "# print and see dataset\n",
    "dataset"
   ]
  },
  {
   "cell_type": "code",
   "execution_count": null,
   "id": "a3bec9ed-f5d4-47f5-ba2a-b55eaf65eef6",
   "metadata": {},
   "outputs": [],
   "source": [
    "prompt = \"\"\"You are a highly skilled mathematician. Determine if the provided Answer and Explanation to a math question is correct or incorrect. Return True if it’s correct and False if it’s wrong. \n",
    "\n",
    "### Question:\n",
    "{}\n",
    "\n",
    "### Answer:\n",
    "{}\n",
    "\n",
    "### Explanation:\n",
    "{}\n",
    "\n",
    "### True/False:\n",
    "{}\"\"\"\n",
    "\n",
    "\n",
    "EOS_TOKEN = tokenizer.eos_token # Must add EOS_TOKEN\n",
    "def formatting_prompts_func(examples):\n",
    "    question = examples[\"question\"]\n",
    "    ans       = examples[\"answer\"]\n",
    "    solution = examples[\"solution\"]\n",
    "    output      = examples[\"is_correct\"]\n",
    "    texts = []\n",
    "    for q, a, s, o in zip(question, ans, solution, output):\n",
    "        # Must add EOS_TOKEN, otherwise your generation will go on forever!\n",
    "        text = prompt.format(q, a, s, o) + EOS_TOKEN\n",
    "        # print(text)\n",
    "        texts.append(text)\n",
    "    return { \"text\" : texts, }"
   ]
  },
  {
   "cell_type": "code",
   "execution_count": null,
   "id": "4c95d527-02ca-4fd0-b4a5-d771851fd76f",
   "metadata": {},
   "outputs": [],
   "source": [
    "complete_train_dataset = dataset['train'].map(formatting_prompts_func, batched = True,)\n",
    "split_dataset = complete_train_dataset.train_test_split(test_size=0.001, seed=100)\n",
    "train_dataset = split_dataset['train']\n",
    "val_dataset = split_dataset['test']\n",
    "\n",
    "print(f\"Training set size: {len(train_dataset)}\")\n",
    "print(f\"Validation set size: {len(val_dataset)}\")"
   ]
  },
  {
   "cell_type": "code",
   "execution_count": null,
   "id": "ab74ea36-e183-4d38-963c-5bc1b0444d28",
   "metadata": {},
   "outputs": [],
   "source": [
    "per_device_train_batch_size = 32\n",
    "gradient_accumulation_steps = 8\n",
    "max_steps = 270\n",
    "print(f'Total training samples: {per_device_train_batch_size * gradient_accumulation_steps * max_steps}')\n",
    "print(f'Samples per step: {per_device_train_batch_size * gradient_accumulation_steps}')"
   ]
  },
  {
   "cell_type": "code",
   "execution_count": null,
   "id": "b9d630fa-49dd-4d48-99ec-3aa76c736f62",
   "metadata": {},
   "outputs": [],
   "source": [
    "from trl import SFTTrainer\n",
    "from transformers import TrainingArguments\n",
    "from unsloth import is_bfloat16_supported\n",
    "training_args = TrainingArguments(\n",
    "        per_device_train_batch_size = per_device_train_batch_size,\n",
    "        gradient_accumulation_steps = gradient_accumulation_steps,\n",
    "        # num_train_epochs = 1, # Set this for 1 full training run.\n",
    "        max_steps = max_steps,\n",
    "        warmup_steps = int(0.1 * max_steps),\n",
    "        learning_rate = 1e-5,\n",
    "        fp16 = not is_bfloat16_supported(),\n",
    "        bf16 = is_bfloat16_supported(),\n",
    "        logging_steps = 1,\n",
    "        optim = \"adamw_8bit\",\n",
    "        weight_decay = 0.01,\n",
    "        max_grad_norm=1,\n",
    "        lr_scheduler_type = \"linear\",\n",
    "        seed = 3407,\n",
    "        resume_from_checkpoint=checkpoint_path,\n",
    "        report_to = \"none\", # Use this for WandB etc\n",
    "        eval_strategy=\"steps\",\n",
    "        eval_steps=30, \n",
    "        save_steps=30,            # Save a checkpoint every 10 steps\n",
    "        save_total_limit=2,\n",
    "        output_dir = \"outputs/\",\n",
    "        load_best_model_at_end=True,\n",
    "    )"
   ]
  },
  {
   "cell_type": "code",
   "execution_count": null,
   "id": "384a8446-1e28-4512-8e3f-41bbdc73452c",
   "metadata": {},
   "outputs": [],
   "source": [
    "from transformers import TrainerCallback, TrainerControl, TrainerState,  EarlyStoppingCallback\n",
    "import numpy as np\n",
    "\n",
    "trainer = SFTTrainer(\n",
    "    model=model,\n",
    "    tokenizer=tokenizer,\n",
    "    train_dataset=train_dataset,\n",
    "    eval_dataset=val_dataset,\n",
    "    dataset_text_field=\"text\",\n",
    "    max_seq_length=max_seq_length,\n",
    "    dataset_num_proc=4,\n",
    "    packing=False,\n",
    "    callbacks=[\n",
    "        EarlyStoppingCallback(early_stopping_patience=3)\n",
    "    ],\n",
    "    args=training_args,\n",
    ")"
   ]
  },
  {
   "cell_type": "code",
   "execution_count": null,
   "id": "73fbfed0-5c3a-42e6-a251-2170277b4346",
   "metadata": {},
   "outputs": [],
   "source": [
    "trainer.train()"
   ]
  },
  {
   "cell_type": "markdown",
   "id": "833af35f-834a-40d7-8088-8be89eaff7a5",
   "metadata": {},
   "source": [
    "Move on to inference.\n"
   ]
  }
 ],
 "metadata": {
  "kernelspec": {
   "display_name": "deepl",
   "language": "python",
   "name": "deepl"
  },
  "language_info": {
   "codemirror_mode": {
    "name": "ipython",
    "version": 3
   },
   "file_extension": ".py",
   "mimetype": "text/x-python",
   "name": "python",
   "nbconvert_exporter": "python",
   "pygments_lexer": "ipython3",
   "version": "3.12.7"
  }
 },
 "nbformat": 4,
 "nbformat_minor": 5
}

{
 "cells": [
  {
   "cell_type": "code",
   "execution_count": 6,
   "id": "8c4134f7-bff9-4eec-a456-943db61bf8d4",
   "metadata": {},
   "outputs": [],
   "source": [
    "input_file_paths = ['./submissions/results_rna3535_unbiased_130k.csv','./submissions/results_rna3535_110K.csv', './submissions/results_cpk286_6.csv', './submissions/results_cpk286_5.csv', './submissions/results_div_3.csv', './submissions/results_div_resume_training_105K.csv', './submissions/results_div_scratch_23040.csv'] "
   ]
  },
  {
   "cell_type": "code",
   "execution_count": 2,
   "id": "9b5c0b0f-7084-463e-800e-2ed72ea89c99",
   "metadata": {},
   "outputs": [
    {
     "name": "stderr",
     "output_type": "stream",
     "text": [
      "/ext3/miniforge3/lib/python3.12/site-packages/tqdm/auto.py:21: TqdmWarning: IProgress not found. Please update jupyter and ipywidgets. See https://ipywidgets.readthedocs.io/en/stable/user_install.html\n",
      "  from .autonotebook import tqdm as notebook_tqdm\n"
     ]
    },
    {
     "data": {
      "text/plain": [
       "DatasetDict({\n",
       "    train: Dataset({\n",
       "        features: ['question', 'is_correct', 'answer', 'solution'],\n",
       "        num_rows: 1000000\n",
       "    })\n",
       "    test: Dataset({\n",
       "        features: ['question', 'is_correct', 'answer', 'solution'],\n",
       "        num_rows: 10000\n",
       "    })\n",
       "})"
      ]
     },
     "execution_count": 2,
     "metadata": {},
     "output_type": "execute_result"
    }
   ],
   "source": [
    "from datasets import load_dataset\n",
    "dataset = load_dataset(\"ad6398/nyu-dl-teach-maths-comp\")\n",
    "# print and see dataset\n",
    "dataset"
   ]
  },
  {
   "cell_type": "code",
   "execution_count": 7,
   "id": "52f8a9ca-4c7b-4ca1-aa9a-e3b35de7658f",
   "metadata": {},
   "outputs": [
    {
     "name": "stdout",
     "output_type": "stream",
     "text": [
      "File: ./submissions/results_rna3535_unbiased_130k.csv\n",
      "True: 28.52%\n",
      "False: 71.48%\n",
      "\n",
      "File: ./submissions/results_rna3535_110K.csv\n",
      "True: 32.06%\n",
      "False: 67.94%\n",
      "\n",
      "File: ./submissions/results_cpk286_6.csv\n",
      "True: 35.01%\n",
      "False: 64.99%\n",
      "\n",
      "File: ./submissions/results_cpk286_5.csv\n",
      "True: 41.73%\n",
      "False: 58.27%\n",
      "\n",
      "File: ./submissions/results_div_3.csv\n",
      "True: 33.43%\n",
      "False: 66.57%\n",
      "\n",
      "File: ./submissions/results_div_resume_training_105K.csv\n",
      "True: 32.26%\n",
      "False: 67.74%\n",
      "\n",
      "File: ./submissions/results_div_scratch_23040.csv\n",
      "True: 46.98%\n",
      "False: 53.02%\n",
      "\n"
     ]
    }
   ],
   "source": [
    "import pandas as pd\n",
    "\n",
    "def calculate_true_false_percentage(df, file_path=''):\n",
    "    try:        \n",
    "        true_count = (df['is_correct'] == True).sum()\n",
    "        false_count = (df['is_correct'] == False).sum()\n",
    "        total_count = len(df)\n",
    "        \n",
    "        true_percentage = (true_count / total_count) * 100 if total_count > 0 else 0\n",
    "        false_percentage = (false_count / total_count) * 100 if total_count > 0 else 0\n",
    "        \n",
    "        print(f\"File: {file_path}\")\n",
    "        print(f\"True: {true_percentage:.2f}%\")\n",
    "        print(f\"False: {false_percentage:.2f}%\\n\")\n",
    "    \n",
    "    except Exception as e:\n",
    "        print(f\"Error processing {file_path}: {e}\")\n",
    "\n",
    "for file_path in input_file_paths:\n",
    "    calculate_true_false_percentage(pd.read_csv(file_path), file_path)\n"
   ]
  },
  {
   "cell_type": "code",
   "execution_count": 33,
   "id": "d8da0d13-d760-49f7-b06f-e44f96395067",
   "metadata": {},
   "outputs": [
    {
     "name": "stdout",
     "output_type": "stream",
     "text": [
      "File: train_dataset\n",
      "True: 40.00%\n",
      "False: 60.00%\n",
      "\n"
     ]
    }
   ],
   "source": [
    "calculate_true_false_percentage(pd.DataFrame(dataset['train']), 'train_dataset')"
   ]
  }
 ],
 "metadata": {
  "kernelspec": {
   "display_name": "DLMid-A100",
   "language": "python",
   "name": "dlmid-a100"
  },
  "language_info": {
   "codemirror_mode": {
    "name": "ipython",
    "version": 3
   },
   "file_extension": ".py",
   "mimetype": "text/x-python",
   "name": "python",
   "nbconvert_exporter": "python",
   "pygments_lexer": "ipython3",
   "version": "3.12.7"
  }
 },
 "nbformat": 4,
 "nbformat_minor": 5
}

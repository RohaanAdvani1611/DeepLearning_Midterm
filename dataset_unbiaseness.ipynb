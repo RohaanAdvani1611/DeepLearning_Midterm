{
 "cells": [
  {
   "cell_type": "code",
   "execution_count": null,
   "id": "a78db2ae-dae4-4f06-91b5-b4b2abdd7df8",
   "metadata": {},
   "outputs": [],
   "source": [
    "from huggingface_hub import notebook_login\n",
    "notebook_login()"
   ]
  },
  {
   "cell_type": "code",
   "execution_count": null,
   "id": "3db2c075-0d0c-4a5a-a2fa-1adf8b5ad5c8",
   "metadata": {},
   "outputs": [],
   "source": [
    "# download and load competition dataset\n",
    "from datasets import load_dataset\n",
    "dataset = load_dataset(\"ad6398/nyu-dl-teach-maths-comp\")\n",
    "# print and see dataset\n",
    "dataset"
   ]
  },
  {
   "cell_type": "code",
   "execution_count": null,
   "id": "66bfa2e2-2657-4515-9fd6-33a8fb0ce79e",
   "metadata": {},
   "outputs": [],
   "source": [
    "true_dataset = dataset['train'].filter(lambda x: x['is_correct'] == True)\n",
    "false_dataset = dataset['train'].filter(lambda x: x['is_correct'] == False)"
   ]
  },
  {
   "cell_type": "code",
   "execution_count": null,
   "id": "c1b898a8-c88a-44ed-8675-4d16f39a1213",
   "metadata": {},
   "outputs": [],
   "source": [
    "len(true_dataset)"
   ]
  },
  {
   "cell_type": "code",
   "execution_count": null,
   "id": "f7a05abe-a929-46b0-83e7-d02f745d30d2",
   "metadata": {},
   "outputs": [],
   "source": [
    "len(false_dataset)"
   ]
  },
  {
   "cell_type": "code",
   "execution_count": null,
   "id": "bd036343-904e-4572-a5b6-0a70e4c530ff",
   "metadata": {},
   "outputs": [],
   "source": [
    "min_length = min(len(true_dataset), len(false_dataset))\n",
    "true_dataset = true_dataset.select(range(min_length))\n",
    "false_dataset = false_dataset.select(range(min_length))"
   ]
  },
  {
   "cell_type": "code",
   "execution_count": null,
   "id": "df975be2-db31-45b0-98e7-ccb2061a655d",
   "metadata": {},
   "outputs": [],
   "source": [
    "interleaved_data = []\n",
    "for true, false in zip(true_dataset, false_dataset):\n",
    "    interleaved_data.append(true)\n",
    "    interleaved_data.append(false)"
   ]
  },
  {
   "cell_type": "code",
   "execution_count": null,
   "id": "c96c5d99-7834-4c2e-89c9-77344ecce3f6",
   "metadata": {},
   "outputs": [],
   "source": [
    "from datasets import Dataset\n",
    "unbiased_dataset = Dataset.from_list(interleaved_data)"
   ]
  },
  {
   "cell_type": "code",
   "execution_count": null,
   "id": "73bdfffe-866e-420d-a81c-9f23f7cfbeb9",
   "metadata": {},
   "outputs": [],
   "source": [
    "len(unbiased_dataset)"
   ]
  },
  {
   "cell_type": "code",
   "execution_count": null,
   "id": "3d0a8794-c550-4c7f-836d-3770dd704b66",
   "metadata": {},
   "outputs": [],
   "source": [
    "split_point = int(0.9 * len(unbiased_dataset))\n",
    "split_point"
   ]
  },
  {
   "cell_type": "code",
   "execution_count": null,
   "id": "45888bfb-5a9f-4e20-8f26-7ec6ee377f16",
   "metadata": {},
   "outputs": [],
   "source": [
    "ub_train_dataset = unbiased_dataset.select(range(0, split_point))  "
   ]
  },
  {
   "cell_type": "code",
   "execution_count": null,
   "id": "c725a624-c980-4e44-875b-91a1163d46a9",
   "metadata": {},
   "outputs": [],
   "source": [
    "ub_validation_dataset = unbiased_dataset.select(range(split_point, 800000)) "
   ]
  },
  {
   "cell_type": "code",
   "execution_count": null,
   "id": "38213dbb-8eec-406d-b152-89fab201b64f",
   "metadata": {},
   "outputs": [],
   "source": [
    "# ub_train_dataset.save_to_disk(\"train_dataset\")\n",
    "# ub_validation_dataset.save_to_disk(\"validation_dataset\")"
   ]
  },
  {
   "cell_type": "code",
   "execution_count": null,
   "id": "807e0dba-bf1f-4152-adea-090fc3e2d74a",
   "metadata": {},
   "outputs": [],
   "source": [
    "from datasets import DatasetDict\n",
    "final= DatasetDict({'train': ub_train_dataset, 'validation': ub_validation_dataset,'test':dataset['test']})"
   ]
  },
  {
   "cell_type": "code",
   "execution_count": null,
   "id": "566c9865-1ffd-4264-948e-6c094041a45d",
   "metadata": {},
   "outputs": [],
   "source": [
    "final"
   ]
  },
  {
   "cell_type": "code",
   "execution_count": null,
   "id": "b03d4423-0b61-47ec-9ec2-f4b78ccc597a",
   "metadata": {},
   "outputs": [],
   "source": [
    "final.push_to_hub(\"LinNY-DLM/train_dataset\")"
   ]
  },
  {
   "cell_type": "code",
   "execution_count": null,
   "id": "216dc0d1-1505-4a9a-afe9-6ce46bf5222a",
   "metadata": {},
   "outputs": [],
   "source": [
    "new_dataset = load_dataset(\"LinNY-DLM/train_dataset\")"
   ]
  },
  {
   "cell_type": "code",
   "execution_count": null,
   "id": "56ce2f29-685f-4186-b074-151c7cdde573",
   "metadata": {},
   "outputs": [],
   "source": [
    "new_dataset"
   ]
  }
 ],
 "metadata": {
  "kernelspec": {
   "display_name": "deepl",
   "language": "python",
   "name": "deepl"
  },
  "language_info": {
   "codemirror_mode": {
    "name": "ipython",
    "version": 3
   },
   "file_extension": ".py",
   "mimetype": "text/x-python",
   "name": "python",
   "nbconvert_exporter": "python",
   "pygments_lexer": "ipython3",
   "version": "3.12.7"
  }
 },
 "nbformat": 4,
 "nbformat_minor": 5
}
